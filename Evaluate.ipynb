{
 "cells": [
  {
   "cell_type": "code",
   "execution_count": 1,
   "id": "704aa513",
   "metadata": {},
   "outputs": [
    {
     "name": "stderr",
     "output_type": "stream",
     "text": [
      "d:\\programfilesssd2\\miniconda\\lib\\site-packages\\numpy\\_distributor_init.py:30: UserWarning: loaded more than 1 DLL from .libs:\n",
      "d:\\programfilesssd2\\miniconda\\lib\\site-packages\\numpy\\.libs\\libopenblas.EL2C6PLE4ZYW3ECEVIV3OXXGRN2NRFM2.gfortran-win_amd64.dll\n",
      "d:\\programfilesssd2\\miniconda\\lib\\site-packages\\numpy\\.libs\\libopenblas.NOIJJG62EMASZI6NYURL6JBKM4EVBGM7.gfortran-win_amd64.dll\n",
      "  warnings.warn(\"loaded more than 1 DLL from .libs:\"\n"
     ]
    }
   ],
   "source": [
    "import pandas as pd\n",
    "import numpy as np\n",
    "import torch\n",
    "from torch.utils.data import TensorDataset,DataLoader\n",
    "import os\n",
    "import pickle\n",
    "from utils import *\n",
    "from sklearn.metrics import classification_report\n",
    "\n",
    "from sklearn.model_selection import KFold"
   ]
  },
  {
   "cell_type": "code",
   "execution_count": 2,
   "id": "02b92015",
   "metadata": {},
   "outputs": [
    {
     "data": {
      "text/plain": [
       "3"
      ]
     },
     "execution_count": 2,
     "metadata": {},
     "output_type": "execute_result"
    }
   ],
   "source": [
    "TARGET = \"EDA\"\n",
    "with open('DICT_EDG300.pkl', 'rb') as file:\n",
    "    loaded_data = pickle.load(file)\n",
    "dataX = loaded_data[TARGET][\"dataX\"]\n",
    "dataY = loaded_data[TARGET][\"dataY\"]\n",
    "len(dataX.shape)"
   ]
  },
  {
   "cell_type": "code",
   "execution_count": 3,
   "id": "3b43cadb",
   "metadata": {},
   "outputs": [
    {
     "data": {
      "text/plain": [
       "torch.Size([2760, 1, 1200])"
      ]
     },
     "execution_count": 3,
     "metadata": {},
     "output_type": "execute_result"
    }
   ],
   "source": [
    "dataX.shape"
   ]
  },
  {
   "cell_type": "code",
   "execution_count": 4,
   "id": "7a501bd7",
   "metadata": {},
   "outputs": [
    {
     "data": {
      "text/plain": [
       "tensor([[[3.9810e-05, 5.3712e-05, 7.5857e-05,  ..., 1.8406e-03,\n",
       "          1.8349e-03, 1.8316e-03]],\n",
       "\n",
       "        [[2.4207e-04, 2.4063e-04, 2.3655e-04,  ..., 2.1130e-03,\n",
       "          2.1192e-03, 2.1268e-03]],\n",
       "\n",
       "        [[6.7670e-04, 6.8324e-04, 6.8544e-04,  ..., 2.3612e-03,\n",
       "          2.3637e-03, 2.3707e-03]],\n",
       "\n",
       "        ...,\n",
       "\n",
       "        [[7.1924e-02, 7.1750e-02, 7.1587e-02,  ..., 8.1092e-02,\n",
       "          8.1131e-02, 8.1196e-02]],\n",
       "\n",
       "        [[6.9601e-02, 6.9574e-02, 6.9550e-02,  ..., 7.6890e-02,\n",
       "          7.6366e-02, 7.5992e-02]],\n",
       "\n",
       "        [[6.8530e-02, 6.8604e-02, 6.8671e-02,  ..., 8.9568e-02,\n",
       "          8.9551e-02, 8.9487e-02]]])"
      ]
     },
     "execution_count": 4,
     "metadata": {},
     "output_type": "execute_result"
    }
   ],
   "source": [
    "kf = KFold(n_splits=5,shuffle=True,random_state=114514)\n",
    "KFSORT = 0\n",
    "INDEX   = []\n",
    "for train_index, valid_index in kf.split(dataX):\n",
    "    INDEX.append((train_index,valid_index))\n",
    "    \n",
    "dataX[INDEX[1][0]]"
   ]
  },
  {
   "cell_type": "code",
   "execution_count": 9,
   "id": "09b44f98",
   "metadata": {},
   "outputs": [
    {
     "name": "stdout",
     "output_type": "stream",
     "text": [
      "              precision    recall  f1-score   support\n",
      "\n",
      "           0       0.74      0.70      0.72       210\n",
      "           1       0.64      0.71      0.67       163\n",
      "           2       0.74      0.72      0.73       179\n",
      "\n",
      "    accuracy                           0.71       552\n",
      "   macro avg       0.71      0.71      0.71       552\n",
      "weighted avg       0.71      0.71      0.71       552\n",
      "\n"
     ]
    }
   ],
   "source": [
    "for i in [0]:\n",
    "    model  = MODEL_CNN_EDA(input_channel=1)\n",
    "    model.load_state_dict(torch.load('./项目文件/model/model_CNN_EDA300_5('+str(i+1)+').pth'), strict=True)\n",
    "    model.eval()\n",
    "    print(classification_report(dataY[INDEX[i][1]].detach().numpy(), torch.max(model(dataX[INDEX[i][1]]),dim=1)[1]))    "
   ]
  },
  {
   "cell_type": "code",
   "execution_count": null,
   "id": "477f9245",
   "metadata": {},
   "outputs": [],
   "source": []
  },
  {
   "cell_type": "code",
   "execution_count": null,
   "id": "8554517d",
   "metadata": {},
   "outputs": [],
   "source": [
    "dataY"
   ]
  },
  {
   "cell_type": "code",
   "execution_count": null,
   "id": "59c66efa",
   "metadata": {},
   "outputs": [],
   "source": [
    "torch.max(model(dataX),dim=1)[1]"
   ]
  },
  {
   "cell_type": "code",
   "execution_count": null,
   "id": "224dbcc9",
   "metadata": {},
   "outputs": [],
   "source": []
  },
  {
   "cell_type": "code",
   "execution_count": null,
   "id": "b110b0f2",
   "metadata": {},
   "outputs": [],
   "source": []
  }
 ],
 "metadata": {
  "kernelspec": {
   "display_name": "Python 3 (ipykernel)",
   "language": "python",
   "name": "python3"
  },
  "language_info": {
   "codemirror_mode": {
    "name": "ipython",
    "version": 3
   },
   "file_extension": ".py",
   "mimetype": "text/x-python",
   "name": "python",
   "nbconvert_exporter": "python",
   "pygments_lexer": "ipython3",
   "version": "3.9.5"
  }
 },
 "nbformat": 4,
 "nbformat_minor": 5
}
