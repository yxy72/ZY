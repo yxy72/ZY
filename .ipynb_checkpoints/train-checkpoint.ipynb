{
 "cells": [
  {
   "cell_type": "code",
   "execution_count": 1,
   "id": "dd2b9855",
   "metadata": {},
   "outputs": [
    {
     "name": "stderr",
     "output_type": "stream",
     "text": [
      "d:\\programfilesssd2\\miniconda\\lib\\site-packages\\numpy\\_distributor_init.py:30: UserWarning: loaded more than 1 DLL from .libs:\n",
      "d:\\programfilesssd2\\miniconda\\lib\\site-packages\\numpy\\.libs\\libopenblas.EL2C6PLE4ZYW3ECEVIV3OXXGRN2NRFM2.gfortran-win_amd64.dll\n",
      "d:\\programfilesssd2\\miniconda\\lib\\site-packages\\numpy\\.libs\\libopenblas.NOIJJG62EMASZI6NYURL6JBKM4EVBGM7.gfortran-win_amd64.dll\n",
      "  warnings.warn(\"loaded more than 1 DLL from .libs:\"\n"
     ]
    }
   ],
   "source": [
    "import pandas as pd\n",
    "import numpy as np\n",
    "import torch\n",
    "from torch.utils.data import TensorDataset,DataLoader\n",
    "import os\n",
    "\n",
    "from sklearn.model_selection import KFold\n",
    "from torch import nn\n",
    "from torchsummary import summary\n",
    "from sklearn.metrics import accuracy_score\n",
    "import matplotlib.pyplot as plt\n",
    "\n",
    "\n",
    "from torch.optim.lr_scheduler import StepLR\n",
    "import pickle"
   ]
  },
  {
   "cell_type": "code",
   "execution_count": 2,
   "id": "a4c38c18",
   "metadata": {},
   "outputs": [
    {
     "data": {
      "text/plain": [
       "33855"
      ]
     },
     "execution_count": 2,
     "metadata": {},
     "output_type": "execute_result"
    }
   ],
   "source": [
    "TARGET = \"EDA\"\n",
    "with open('DICT_EDG300.pkl', 'rb') as file:\n",
    "    loaded_data = pickle.load(file)\n",
    "dataX = loaded_data[TARGET][\"dataX\"]\n",
    "dataY = loaded_data[TARGET][\"dataY\"]\n",
    "len(dataX)"
   ]
  },
  {
   "cell_type": "code",
   "execution_count": 3,
   "id": "3097babd",
   "metadata": {},
   "outputs": [
    {
     "data": {
      "text/plain": [
       "1920"
      ]
     },
     "execution_count": 3,
     "metadata": {},
     "output_type": "execute_result"
    }
   ],
   "source": [
    "len(dataX[0][0])"
   ]
  },
  {
   "cell_type": "code",
   "execution_count": 4,
   "id": "90ae04dc",
   "metadata": {},
   "outputs": [
    {
     "data": {
      "text/plain": [
       "27084"
      ]
     },
     "execution_count": 4,
     "metadata": {},
     "output_type": "execute_result"
    }
   ],
   "source": [
    "# 十折交叉验证\n",
    "kf = KFold(n_splits=5,shuffle=True,random_state=114514)\n",
    "KFSORT = 0\n",
    "INDEX   = []\n",
    "for train_index, valid_index in kf.split(dataX):\n",
    "    INDEX.append((train_index,valid_index))\n",
    "    \n",
    "# dataLoader_train = DataLoader(dataset_train, batch_size=32, shuffle=True,num_workers=4,pin_memory=True)\n",
    "# dataLoader_valid = DataLoader(dataset_valid, batch_size=32, shuffle=False,num_workers=4,pin_memory=True)\n",
    "\n",
    "dataLoader_train = DataLoader(TensorDataset(dataX[INDEX[KFSORT][0]],dataY[INDEX[KFSORT][0]]), batch_size=128, shuffle=True,num_workers=4,pin_memory = True,prefetch_factor=8)\n",
    "dataLoader_valid = DataLoader(TensorDataset(dataX[INDEX[KFSORT][1]],dataY[INDEX[KFSORT][1]]), batch_size=128, shuffle=False,num_workers=4,pin_memory = True,prefetch_factor=8)\n",
    "\n",
    "dataCount = len(dataX[train_index])\n",
    "dataCount"
   ]
  },
  {
   "cell_type": "code",
   "execution_count": 5,
   "id": "6be8d385",
   "metadata": {},
   "outputs": [
    {
     "data": {
      "text/plain": [
       "6771"
      ]
     },
     "execution_count": 5,
     "metadata": {},
     "output_type": "execute_result"
    }
   ],
   "source": [
    " len(dataY[valid_index])"
   ]
  },
  {
   "cell_type": "code",
   "execution_count": 6,
   "id": "b4cc0457",
   "metadata": {},
   "outputs": [],
   "source": [
    "\n",
    "device = torch.device(\"cuda:0\" if torch.cuda.is_available() else \"cpu\")"
   ]
  },
  {
   "cell_type": "code",
   "execution_count": 7,
   "id": "d21b9c1a",
   "metadata": {},
   "outputs": [],
   "source": []
  },
  {
   "cell_type": "code",
   "execution_count": 8,
   "id": "d3361b57",
   "metadata": {},
   "outputs": [],
   "source": [
    "\n",
    "# os.environ[\"PYTORCH_CUDA_ALLOC_CONF\"] = \"max_split_size_mb:582\""
   ]
  },
  {
   "cell_type": "code",
   "execution_count": null,
   "id": "f61f74d0",
   "metadata": {
    "scrolled": false
   },
   "outputs": [
    {
     "name": "stdout",
     "output_type": "stream",
     "text": [
      "epoch1: 251.731\t acc_t[0.338]\t lr[0.0001]\t acc_val: 0.31959，\tOK ====================\t\n",
      "epoch2: 244.640\t acc_t[0.337]\t lr[0.0001]\t acc_val: 0.36287，\tOK ====================\t\n",
      "epoch3: 241.269\t acc_t[0.338]\t lr[0.0001]\t acc_val: 0.36287，\tOK ====================\t\n",
      "epoch4: 238.767\t acc_t[0.335]\t lr[0.0001]\t acc_val: 0.36287，\tOK ====================\t\n",
      "epoch5: 237.319\t acc_t[0.335]\t lr[0.0001]\t acc_val: 0.36287，\tOK ====================\t\n",
      "epoch6: 235.440\t acc_t[0.339]\t lr[0.0001]\t acc_val: 0.36287，\tOK ====================\t\n",
      "epoch7: 235.099\t acc_t[0.340]\t lr[0.0001]\t acc_val: 0.36287，\tOK ====================\t\n",
      "epoch8: 234.528\t acc_t[0.338]\t lr[0.0001]\t acc_val: 0.36287，\tOK ====================\t\n",
      "epoch9: 233.923\t acc_t[0.342]\t lr[0.0001]\t acc_val: 0.36287，\tOK ====================\t\n",
      "epoch10: 233.595\t acc_t[0.342]\t lr[0.0001]\t acc_val: 0.36287，\tOK ====================\t\n",
      "epoch11: 233.244\t acc_t[0.346]\t lr[0.0001]\t acc_val: 0.36287，\tOK ====================\t\n",
      "epoch12: 233.347\t acc_t[0.346]\t lr[0.0001]\t acc_val: 0.36287，\tOK ====================\t\n",
      "epoch13: 233.093\t acc_t[0.348]\t lr[0.0001]\t acc_val: 0.36287，\tOK ====================\t\n",
      "epoch14: 233.074\t acc_t[0.350]\t lr[0.0001]\t acc_val: 0.36287，\tOK ====================\t\n",
      "epoch15: 233.032\t acc_t[0.350]\t lr[0.0001]\t acc_val: 0.36287，\tOK ====================\t\n",
      "epoch16: 232.827\t acc_t[0.351]\t lr[0.0001]\t acc_val: 0.36287，\tOK ====================\t\n",
      "epoch17: 233.033\t acc_t[0.349]\t lr[0.0001]\t acc_val: 0.36287，\tOK ====================\t\n",
      "epoch18: 232.903\t acc_t[0.357]\t lr[0.0001]\t acc_val: 0.36287，\tOK ====================\t\n",
      "epoch19: 232.980\t acc_t[0.350]\t lr[0.0001]\t acc_val: 0.36287，\tOK ====================\t\n",
      "epoch20: 232.924\t acc_t[0.350]\t lr[0.0001]\t acc_val: 0.36287，\tOK ====================\t\n",
      "epoch21: 233.030\t acc_t[0.351]\t lr[0.0001]\t acc_val: 0.36287，\tOK ====================\t\n",
      "epoch22: 232.841\t acc_t[0.351]\t lr[0.0001]\t acc_val: 0.36287，\tOK ====================\t\n",
      "epoch23: 232.805\t acc_t[0.350]\t lr[0.0001]\t acc_val: 0.36287，\tOK ====================\t\n",
      "epoch24: 232.978\t acc_t[0.354]\t lr[0.0001]\t acc_val: 0.36287，\tOK ====================\t\n",
      "epoch25: 232.885\t acc_t[0.355]\t lr[0.0001]\t acc_val: 0.36287，\tOK ====================\t\n",
      "epoch26: 232.865\t acc_t[0.354]\t lr[0.0001]\t acc_val: 0.36287，\tOK ====================\t\n",
      "epoch27: 232.900\t acc_t[0.351]\t lr[0.0001]\t acc_val: 0.36287，\tOK ====================\t\n",
      "epoch28: 232.848\t acc_t[0.352]\t lr[0.0001]\t acc_val: 0.36287，\tOK ====================\t\n",
      "epoch29: 232.849\t acc_t[0.353]\t lr[0.0001]\t acc_val: 0.36287，\tOK ====================\t\n",
      "epoch30: 232.943\t acc_t[0.352]\t lr[0.0001]\t acc_val: 0.36287，\tOK ====================\t\n",
      "epoch31: 232.933\t acc_t[0.352]\t lr[0.0001]\t acc_val: 0.36287，\tOK ====================\t\n",
      "epoch32: 232.771\t acc_t[0.356]\t lr[0.0001]\t acc_val: 0.36287，\tOK ====================\t\n",
      "epoch33: 232.789\t acc_t[0.356]\t lr[0.0001]\t acc_val: 0.36287，\tOK ====================\t\n",
      "epoch34: 232.725\t acc_t[0.357]\t lr[0.0001]\t acc_val: 0.36287，\tOK ====================\t\n",
      "epoch35: 233.058\t acc_t[0.350]\t lr[0.0001]\t acc_val: 0.36287，\tOK ====================\t\n",
      "epoch36: 232.914\t acc_t[0.350]\t lr[0.0001]\t acc_val: 0.36287，\tOK ====================\t\n",
      "epoch37: 232.928\t acc_t[0.350]\t lr[0.0001]\t acc_val: 0.36287，\tOK ====================\t\n",
      "epoch38: 233.044\t acc_t[0.350]\t lr[0.0001]\t acc_val: 0.36287，\tOK ====================\t\n",
      "epoch39: 232.996\t acc_t[0.348]\t lr[0.0001]\t acc_val: 0.36287，\tOK ====================\t\n",
      "epoch40: 232.914\t acc_t[0.353]\t lr[0.0001]\t acc_val: 0.36287，\tOK ====================\t\n",
      "epoch41: 232.986\t acc_t[0.350]\t lr[0.0001]\t acc_val: 0.36287，\tOK ====================\t\n",
      "epoch42: 232.987\t acc_t[0.349]\t lr[0.0001]\t acc_val: 0.36287，\tOK ====================\t\n",
      "epoch43: 232.804\t acc_t[0.354]\t lr[0.0001]\t acc_val: 0.36287，\tOK ====================\t\n",
      "epoch44: 232.977\t acc_t[0.350]\t lr[0.0001]\t "
     ]
    }
   ],
   "source": [
    "model = MODEL_LSTM1()\n",
    "model = model.to(device)\n",
    "\n",
    "epochs = 3000\n",
    "optimizer = torch.optim.Adam(model.parameters(), lr=0.0001,weight_decay=1e-5,betas=(0.9, 0.999)) #0.0008\n",
    "\n",
    "criterion = torch.nn.CrossEntropyLoss()\n",
    "\n",
    "scheduler = StepLR(optimizer, step_size=100, gamma=0.97)\n",
    "\n",
    "lossHistory = []\n",
    "accHistory = []\n",
    "trainAccHis = []\n",
    "\n",
    "\n",
    "\n",
    "early_stopping = EarlyStopping(patience=1200)\n",
    "\n",
    "for epoch in range(0,epochs):\n",
    "    model.train()\n",
    "    LOSS = 0\n",
    "    ACC = 0\n",
    "    for batch_data, batch_targets in dataLoader_train:\n",
    "        optimizer.zero_grad()\n",
    "        outputs = model(batch_data.to(device))\n",
    "        loss = criterion(outputs, batch_targets.to(device))\n",
    "        loss.backward()\n",
    "        \n",
    "        LOSS += loss.detach().cpu().numpy()\n",
    "        ACC += (torch.max(outputs,dim=1)[1] == batch_targets.to(device)).sum()\n",
    "        \n",
    "        optimizer.step()\n",
    "        \n",
    "    scheduler.step()\n",
    "    \n",
    "    lossHistory.append(LOSS)\n",
    "    \n",
    "    print(f\"epoch{epoch+1}: {str(LOSS)[0:7]}\",end=\"\\t \")\n",
    "    cal = (ACC/dataCount).cpu()\n",
    "    print(f\"acc_t[{str(np.array(cal))[0:5]}]\",end=\"\\t \")\n",
    "    trainAccHis.append(cal)\n",
    "    print(\"lr[\"+str(optimizer.param_groups[0]['lr'])+\"]\",end=\"\\t \")\n",
    "    \n",
    "#     for p in model.parameters():\n",
    "#         print(p.grad.data)\n",
    "    \n",
    "    model.eval()\n",
    "    with torch.no_grad():\n",
    "        all_outputs = []\n",
    "        all_targets = []\n",
    "        for batch_data, batch_targets in dataLoader_valid:\n",
    "            outputs = model(batch_data.to(device))\n",
    "            _, predicted = torch.max(outputs.data, 1)\n",
    "            all_outputs.append(predicted.cpu().numpy())\n",
    "            all_targets.append(batch_targets.cpu().numpy())\n",
    "\n",
    "        all_outputs = np.concatenate(all_outputs)\n",
    "        all_targets = np.concatenate(all_targets)\n",
    "        accuracy = accuracy_score(all_targets, all_outputs)\n",
    "        accHistory.append(accuracy)\n",
    "#         accAverHis.append(np.mean(np.array(accHistory)))\n",
    "        print(f\"acc_val: {str(accuracy)[0:7]}，\",end=\"\\t\")\n",
    "        print('OK '+'='*20 if(np.max(np.array(accHistory)) == accuracy) else str(100*(accuracy - np.max(np.array(accHistory))))[0:5],end=\"\\t\")\n",
    "    \n",
    "    \n",
    "    if(epoch>50):\n",
    "        print(f\"[{ str(np.abs(np.mean(lossHistory)-np.mean(lossHistory[0:epoch-50])))[0:4] }\")\n",
    "#         if(np.abs(np.mean(lossHistory)-np.mean(lossHistory[0:epoch-50]))<0.05):\n",
    "#             if(np.abs(100*(accuracy - np.max(np.array(accHistory))))<5):\n",
    "#                 print(\"已提前结束。\")\n",
    "#                 break\n",
    "            \n",
    "        early_stopping(accuracy, model)\n",
    "        if early_stopping.early_stop:\n",
    "            print(\"Early stopping\")\n",
    "            break\n",
    "                \n",
    "    else:\n",
    "        print(\"\")"
   ]
  },
  {
   "cell_type": "code",
   "execution_count": null,
   "id": "b10d8124",
   "metadata": {},
   "outputs": [],
   "source": [
    "# 0 43\n",
    "# 60 42\n",
    "\n",
    "\n",
    "\n",
    "x = range(0,epochs) # x轴坐标值113  0.00009 -> 81\n",
    "plt.plot(trainAccHis,c = 'r') # 参数c为color简写，表示颜色,r为red即红色"
   ]
  },
  {
   "cell_type": "code",
   "execution_count": null,
   "id": "cede050f",
   "metadata": {},
   "outputs": [],
   "source": [
    "x = range(0,epochs) # x轴坐标值\n",
    "plt.plot(lossHistory,c = 'r') # 参数c为color简写，表示颜色,r为red即红色"
   ]
  },
  {
   "cell_type": "code",
   "execution_count": null,
   "id": "34754162",
   "metadata": {},
   "outputs": [],
   "source": [
    "\n",
    "x = range(0,epochs) # x轴坐标值\n",
    "plt.plot(accHistory,c = 'r') # 参数c为color简写，表示颜色,r为red即红色\n"
   ]
  },
  {
   "cell_type": "code",
   "execution_count": null,
   "id": "e4cf6f6f",
   "metadata": {},
   "outputs": [],
   "source": [
    "\n",
    "with open(\"loss_LSTM_\"+TARGET+\"300_5(\"+str(KFSORT+1)+\").pkl\", 'wb') as file:\n",
    "    pickle.dump(dict({\"loss\":lossHistory,\"acc\":accHistory,\"trainAccHis\":trainAccHis}), file)"
   ]
  },
  {
   "cell_type": "code",
   "execution_count": null,
   "id": "89f9a3f3",
   "metadata": {},
   "outputs": [],
   "source": [
    "STOP"
   ]
  },
  {
   "cell_type": "code",
   "execution_count": null,
   "id": "dcf2e192",
   "metadata": {},
   "outputs": [],
   "source": [
    "\n",
    "with open(\"loss_LSTM_EDA300_5(1).pkl\", 'wb') as file:\n",
    "    pickle.dump(dict({\"loss\":lossHistory,\"acc\":accHistory,\"trainAccHis\":trainAccHis}), file)\n",
    "# with open(\"model_LSTM_EDA300_10(10).pkl\", 'wb') as file:\n",
    "#     pickle.dump(dict({\"loss\":lossHistory,\"acc\":accHistory,\"trainAccHis\":trainAccHis}), file)"
   ]
  },
  {
   "cell_type": "code",
   "execution_count": null,
   "id": "58a5d54a",
   "metadata": {},
   "outputs": [],
   "source": []
  },
  {
   "cell_type": "code",
   "execution_count": null,
   "id": "419b0dd0",
   "metadata": {},
   "outputs": [],
   "source": []
  },
  {
   "cell_type": "code",
   "execution_count": null,
   "id": "ad4a9123",
   "metadata": {},
   "outputs": [],
   "source": []
  },
  {
   "cell_type": "code",
   "execution_count": null,
   "id": "2f4b3f17",
   "metadata": {},
   "outputs": [],
   "source": []
  },
  {
   "cell_type": "code",
   "execution_count": null,
   "id": "2b080f54",
   "metadata": {},
   "outputs": [],
   "source": []
  },
  {
   "cell_type": "code",
   "execution_count": null,
   "id": "59be4939",
   "metadata": {},
   "outputs": [],
   "source": []
  },
  {
   "cell_type": "code",
   "execution_count": null,
   "id": "bc7db6e7",
   "metadata": {},
   "outputs": [],
   "source": []
  },
  {
   "cell_type": "code",
   "execution_count": null,
   "id": "b051aad5",
   "metadata": {},
   "outputs": [],
   "source": []
  },
  {
   "cell_type": "code",
   "execution_count": null,
   "id": "9ed6cf24",
   "metadata": {},
   "outputs": [],
   "source": []
  }
 ],
 "metadata": {
  "kernelspec": {
   "display_name": "Python 3 (ipykernel)",
   "language": "python",
   "name": "python3"
  },
  "language_info": {
   "codemirror_mode": {
    "name": "ipython",
    "version": 3
   },
   "file_extension": ".py",
   "mimetype": "text/x-python",
   "name": "python",
   "nbconvert_exporter": "python",
   "pygments_lexer": "ipython3",
   "version": "3.9.5"
  }
 },
 "nbformat": 4,
 "nbformat_minor": 5
}
