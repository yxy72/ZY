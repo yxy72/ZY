{
 "cells": [
  {
   "cell_type": "code",
   "execution_count": 1,
   "id": "dd2b9855",
   "metadata": {},
   "outputs": [
    {
     "name": "stderr",
     "output_type": "stream",
     "text": [
      "d:\\programfilesssd2\\miniconda\\lib\\site-packages\\numpy\\_distributor_init.py:30: UserWarning: loaded more than 1 DLL from .libs:\n",
      "d:\\programfilesssd2\\miniconda\\lib\\site-packages\\numpy\\.libs\\libopenblas.EL2C6PLE4ZYW3ECEVIV3OXXGRN2NRFM2.gfortran-win_amd64.dll\n",
      "d:\\programfilesssd2\\miniconda\\lib\\site-packages\\numpy\\.libs\\libopenblas.NOIJJG62EMASZI6NYURL6JBKM4EVBGM7.gfortran-win_amd64.dll\n",
      "  warnings.warn(\"loaded more than 1 DLL from .libs:\"\n"
     ]
    }
   ],
   "source": [
    "import pandas as pd\n",
    "import numpy as np\n",
    "import torch\n",
    "from torch.utils.data import TensorDataset,DataLoader\n",
    "import os\n",
    "\n",
    "from sklearn.model_selection import KFold\n",
    "from torch import nn\n",
    "from torchsummary import summary\n",
    "from sklearn.metrics import accuracy_score\n",
    "import matplotlib.pyplot as plt\n",
    "\n",
    "\n",
    "from torch.optim.lr_scheduler import StepLR\n",
    "import pickle\n",
    "from utils import * "
   ]
  },
  {
   "cell_type": "code",
   "execution_count": 2,
   "id": "a4c38c18",
   "metadata": {},
   "outputs": [
    {
     "data": {
      "text/plain": [
       "2760"
      ]
     },
     "execution_count": 2,
     "metadata": {},
     "output_type": "execute_result"
    }
   ],
   "source": [
    "TARGET = \"EDA\"\n",
    "with open('DICT_EDG300.pkl', 'rb') as file:\n",
    "    loaded_data = pickle.load(file)\n",
    "dataX = loaded_data[TARGET][\"dataX\"]\n",
    "dataY = loaded_data[TARGET][\"dataY\"]\n",
    "len(dataX)"
   ]
  },
  {
   "cell_type": "code",
   "execution_count": 3,
   "id": "3097babd",
   "metadata": {},
   "outputs": [
    {
     "data": {
      "text/plain": [
       "1200"
      ]
     },
     "execution_count": 3,
     "metadata": {},
     "output_type": "execute_result"
    }
   ],
   "source": [
    "len(dataX[0][0])"
   ]
  },
  {
   "cell_type": "code",
   "execution_count": 4,
   "id": "90ae04dc",
   "metadata": {},
   "outputs": [
    {
     "name": "stdout",
     "output_type": "stream",
     "text": [
      "载入数据，训练样本2208个，验证样本552个。\n"
     ]
    }
   ],
   "source": [
    "# 十折交叉验证\n",
    "kf = KFold(n_splits=5,shuffle=True,random_state=114514)\n",
    "INDEX   = []\n",
    "KFSORT = 1\n",
    "for train_index, valid_index in kf.split(dataX):\n",
    "    INDEX.append((train_index,valid_index))\n",
    "\n",
    "# dataLoader_train = DataLoader(dataset_train, batch_size=32, shuffle=True,num_workers=4,pin_memory=True)\n",
    "# dataLoader_valid = DataLoader(dataset_valid, batch_size=32, shuffle=False,num_workers=4,pin_memory=True)\n",
    "\n",
    "dataLoader_train = DataLoader(TensorDataset(dataX[INDEX[KFSORT][0]],dataY[INDEX[KFSORT][0]]), batch_size=128, shuffle=True,num_workers=4,pin_memory = True,prefetch_factor=8)\n",
    "dataLoader_valid = DataLoader(TensorDataset(dataX[INDEX[KFSORT][1]],dataY[INDEX[KFSORT][1]]), batch_size=128, shuffle=False,num_workers=4,pin_memory = True,prefetch_factor=8)\n",
    "\n",
    "print(f\"载入数据，训练样本{len(dataX[train_index])}个，验证样本{len(dataY[valid_index])}个。\")"
   ]
  },
  {
   "cell_type": "code",
   "execution_count": 5,
   "id": "6be8d385",
   "metadata": {},
   "outputs": [
    {
     "data": {
      "text/plain": [
       "552"
      ]
     },
     "execution_count": 5,
     "metadata": {},
     "output_type": "execute_result"
    }
   ],
   "source": [
    " len(dataY[valid_index])"
   ]
  },
  {
   "cell_type": "code",
   "execution_count": 6,
   "id": "b4cc0457",
   "metadata": {},
   "outputs": [
    {
     "name": "stdout",
     "output_type": "stream",
     "text": [
      "epoch1: 19.9128\t acc_t[0.331]\t lr[0.0001]\t acc_val: 0.32971，\tOK ====================\t\n",
      "epoch2: 19.7904\t acc_t[0.353]\t lr[0.0001]\t acc_val: 0.32971，\tOK ====================\t\n",
      "epoch3: 19.7471\t acc_t[0.359]\t lr[0.0001]\t acc_val: 0.38768，\tOK ====================\t\n",
      "epoch4: 19.7738\t acc_t[0.345]\t lr[0.0001]\t acc_val: 0.38768，\tOK ====================\t\n",
      "epoch5: 19.6944\t acc_t[0.379]\t lr[0.0001]\t acc_val: 0.41304，\tOK ====================\t\n",
      "epoch6: 19.6635\t acc_t[0.392]\t lr[0.0001]\t acc_val: 0.41666，\tOK ====================\t\n",
      "epoch7: 19.7415\t acc_t[0.365]\t lr[0.0001]\t acc_val: 0.41666，\tOK ====================\t\n",
      "epoch8: 19.7296\t acc_t[0.371]\t lr[0.0001]\t acc_val: 0.40036，\t-1.63\t\n",
      "epoch9: 19.6511\t acc_t[0.375]\t lr[0.0001]\t "
     ]
    },
    {
     "ename": "KeyboardInterrupt",
     "evalue": "",
     "output_type": "error",
     "traceback": [
      "\u001b[1;31m---------------------------------------------------------------------------\u001b[0m",
      "\u001b[1;31mKeyboardInterrupt\u001b[0m                         Traceback (most recent call last)",
      "\u001b[1;32mC:\\Users\\ADMINI~1\\AppData\\Local\\Temp/ipykernel_7652/3999748984.py\u001b[0m in \u001b[0;36m<module>\u001b[1;34m\u001b[0m\n\u001b[0;32m      2\u001b[0m \u001b[0mtarget\u001b[0m \u001b[1;33m=\u001b[0m \u001b[1;34m\"EDA300\"\u001b[0m\u001b[1;33m\u001b[0m\u001b[1;33m\u001b[0m\u001b[0m\n\u001b[0;32m      3\u001b[0m \u001b[1;33m\u001b[0m\u001b[0m\n\u001b[1;32m----> 4\u001b[1;33m \u001b[0mTRAIN_CNN\u001b[0m\u001b[1;33m(\u001b[0m\u001b[0mMODEL_CNN_EDA\u001b[0m\u001b[1;33m(\u001b[0m\u001b[0minput_channel\u001b[0m\u001b[1;33m=\u001b[0m\u001b[1;36m1\u001b[0m\u001b[1;33m)\u001b[0m\u001b[1;33m,\u001b[0m\u001b[0mmodelName\u001b[0m \u001b[1;33m=\u001b[0m\u001b[0mmodelName\u001b[0m\u001b[1;33m,\u001b[0m\u001b[0mtarget\u001b[0m\u001b[1;33m=\u001b[0m\u001b[0mtarget\u001b[0m\u001b[1;33m,\u001b[0m\u001b[0mKFSORT\u001b[0m\u001b[1;33m=\u001b[0m\u001b[0mKFSORT\u001b[0m\u001b[1;33m,\u001b[0m\u001b[0mdataLoader_train\u001b[0m\u001b[1;33m=\u001b[0m\u001b[0mdataLoader_train\u001b[0m\u001b[1;33m,\u001b[0m\u001b[0mdataLoader_valid\u001b[0m\u001b[1;33m=\u001b[0m\u001b[0mdataLoader_valid\u001b[0m\u001b[1;33m,\u001b[0m\u001b[0mdataCount\u001b[0m \u001b[1;33m=\u001b[0m \u001b[0mlen\u001b[0m\u001b[1;33m(\u001b[0m\u001b[0mdataX\u001b[0m\u001b[1;33m[\u001b[0m\u001b[0mtrain_index\u001b[0m\u001b[1;33m]\u001b[0m\u001b[1;33m)\u001b[0m\u001b[1;33m,\u001b[0m\u001b[0mepochs\u001b[0m\u001b[1;33m=\u001b[0m\u001b[1;36m500\u001b[0m\u001b[1;33m,\u001b[0m\u001b[0mlr\u001b[0m\u001b[1;33m=\u001b[0m\u001b[1;36m0.0001\u001b[0m\u001b[1;33m,\u001b[0m\u001b[0mscheduler_step_size\u001b[0m\u001b[1;33m=\u001b[0m\u001b[1;36m100\u001b[0m\u001b[1;33m,\u001b[0m\u001b[0mscheduler_gamma\u001b[0m\u001b[1;33m=\u001b[0m\u001b[1;36m0.97\u001b[0m\u001b[1;33m)\u001b[0m\u001b[1;33m\u001b[0m\u001b[1;33m\u001b[0m\u001b[0m\n\u001b[0m\u001b[0;32m      5\u001b[0m \u001b[1;33m\u001b[0m\u001b[0m\n\u001b[0;32m      6\u001b[0m \u001b[1;33m\u001b[0m\u001b[0m\n",
      "\u001b[1;32mE:\\YXY_Cloud\\Project\\Jupter Notebook (Python)\\ZY\\utils.py\u001b[0m in \u001b[0;36mTRAIN_CNN\u001b[1;34m(model, modelName, target, KFSORT, dataLoader_train, dataLoader_valid, dataCount, epochs, lr, scheduler_step_size, scheduler_gamma)\u001b[0m\n\u001b[0;32m    265\u001b[0m             \u001b[0mall_outputs\u001b[0m \u001b[1;33m=\u001b[0m \u001b[1;33m[\u001b[0m\u001b[1;33m]\u001b[0m\u001b[1;33m\u001b[0m\u001b[1;33m\u001b[0m\u001b[0m\n\u001b[0;32m    266\u001b[0m             \u001b[0mall_targets\u001b[0m \u001b[1;33m=\u001b[0m \u001b[1;33m[\u001b[0m\u001b[1;33m]\u001b[0m\u001b[1;33m\u001b[0m\u001b[1;33m\u001b[0m\u001b[0m\n\u001b[1;32m--> 267\u001b[1;33m             \u001b[1;32mfor\u001b[0m \u001b[0mbatch_data\u001b[0m\u001b[1;33m,\u001b[0m \u001b[0mbatch_targets\u001b[0m \u001b[1;32min\u001b[0m \u001b[0mdataLoader_valid\u001b[0m\u001b[1;33m:\u001b[0m\u001b[1;33m\u001b[0m\u001b[1;33m\u001b[0m\u001b[0m\n\u001b[0m\u001b[0;32m    268\u001b[0m                 \u001b[0moutputs\u001b[0m \u001b[1;33m=\u001b[0m \u001b[0mmodel\u001b[0m\u001b[1;33m(\u001b[0m\u001b[0mbatch_data\u001b[0m\u001b[1;33m.\u001b[0m\u001b[0mto\u001b[0m\u001b[1;33m(\u001b[0m\u001b[0mdevice\u001b[0m\u001b[1;33m)\u001b[0m\u001b[1;33m)\u001b[0m\u001b[1;33m\u001b[0m\u001b[1;33m\u001b[0m\u001b[0m\n\u001b[0;32m    269\u001b[0m                 \u001b[0m_\u001b[0m\u001b[1;33m,\u001b[0m \u001b[0mpredicted\u001b[0m \u001b[1;33m=\u001b[0m \u001b[0mtorch\u001b[0m\u001b[1;33m.\u001b[0m\u001b[0mmax\u001b[0m\u001b[1;33m(\u001b[0m\u001b[0moutputs\u001b[0m\u001b[1;33m.\u001b[0m\u001b[0mdata\u001b[0m\u001b[1;33m,\u001b[0m \u001b[1;36m1\u001b[0m\u001b[1;33m)\u001b[0m\u001b[1;33m\u001b[0m\u001b[1;33m\u001b[0m\u001b[0m\n",
      "\u001b[1;32md:\\programfilesssd2\\miniconda\\lib\\site-packages\\torch\\utils\\data\\dataloader.py\u001b[0m in \u001b[0;36m__next__\u001b[1;34m(self)\u001b[0m\n\u001b[0;32m    626\u001b[0m                 \u001b[1;31m# TODO(https://github.com/pytorch/pytorch/issues/76750)\u001b[0m\u001b[1;33m\u001b[0m\u001b[1;33m\u001b[0m\u001b[1;33m\u001b[0m\u001b[0m\n\u001b[0;32m    627\u001b[0m                 \u001b[0mself\u001b[0m\u001b[1;33m.\u001b[0m\u001b[0m_reset\u001b[0m\u001b[1;33m(\u001b[0m\u001b[1;33m)\u001b[0m  \u001b[1;31m# type: ignore[call-arg]\u001b[0m\u001b[1;33m\u001b[0m\u001b[1;33m\u001b[0m\u001b[0m\n\u001b[1;32m--> 628\u001b[1;33m             \u001b[0mdata\u001b[0m \u001b[1;33m=\u001b[0m \u001b[0mself\u001b[0m\u001b[1;33m.\u001b[0m\u001b[0m_next_data\u001b[0m\u001b[1;33m(\u001b[0m\u001b[1;33m)\u001b[0m\u001b[1;33m\u001b[0m\u001b[1;33m\u001b[0m\u001b[0m\n\u001b[0m\u001b[0;32m    629\u001b[0m             \u001b[0mself\u001b[0m\u001b[1;33m.\u001b[0m\u001b[0m_num_yielded\u001b[0m \u001b[1;33m+=\u001b[0m \u001b[1;36m1\u001b[0m\u001b[1;33m\u001b[0m\u001b[1;33m\u001b[0m\u001b[0m\n\u001b[0;32m    630\u001b[0m             \u001b[1;32mif\u001b[0m \u001b[0mself\u001b[0m\u001b[1;33m.\u001b[0m\u001b[0m_dataset_kind\u001b[0m \u001b[1;33m==\u001b[0m \u001b[0m_DatasetKind\u001b[0m\u001b[1;33m.\u001b[0m\u001b[0mIterable\u001b[0m \u001b[1;32mand\u001b[0m\u001b[0;31m \u001b[0m\u001b[0;31m\\\u001b[0m\u001b[1;33m\u001b[0m\u001b[1;33m\u001b[0m\u001b[0m\n",
      "\u001b[1;32md:\\programfilesssd2\\miniconda\\lib\\site-packages\\torch\\utils\\data\\dataloader.py\u001b[0m in \u001b[0;36m_next_data\u001b[1;34m(self)\u001b[0m\n\u001b[0;32m   1314\u001b[0m \u001b[1;33m\u001b[0m\u001b[0m\n\u001b[0;32m   1315\u001b[0m             \u001b[1;32massert\u001b[0m \u001b[1;32mnot\u001b[0m \u001b[0mself\u001b[0m\u001b[1;33m.\u001b[0m\u001b[0m_shutdown\u001b[0m \u001b[1;32mand\u001b[0m \u001b[0mself\u001b[0m\u001b[1;33m.\u001b[0m\u001b[0m_tasks_outstanding\u001b[0m \u001b[1;33m>\u001b[0m \u001b[1;36m0\u001b[0m\u001b[1;33m\u001b[0m\u001b[1;33m\u001b[0m\u001b[0m\n\u001b[1;32m-> 1316\u001b[1;33m             \u001b[0midx\u001b[0m\u001b[1;33m,\u001b[0m \u001b[0mdata\u001b[0m \u001b[1;33m=\u001b[0m \u001b[0mself\u001b[0m\u001b[1;33m.\u001b[0m\u001b[0m_get_data\u001b[0m\u001b[1;33m(\u001b[0m\u001b[1;33m)\u001b[0m\u001b[1;33m\u001b[0m\u001b[1;33m\u001b[0m\u001b[0m\n\u001b[0m\u001b[0;32m   1317\u001b[0m             \u001b[0mself\u001b[0m\u001b[1;33m.\u001b[0m\u001b[0m_tasks_outstanding\u001b[0m \u001b[1;33m-=\u001b[0m \u001b[1;36m1\u001b[0m\u001b[1;33m\u001b[0m\u001b[1;33m\u001b[0m\u001b[0m\n\u001b[0;32m   1318\u001b[0m             \u001b[1;32mif\u001b[0m \u001b[0mself\u001b[0m\u001b[1;33m.\u001b[0m\u001b[0m_dataset_kind\u001b[0m \u001b[1;33m==\u001b[0m \u001b[0m_DatasetKind\u001b[0m\u001b[1;33m.\u001b[0m\u001b[0mIterable\u001b[0m\u001b[1;33m:\u001b[0m\u001b[1;33m\u001b[0m\u001b[1;33m\u001b[0m\u001b[0m\n",
      "\u001b[1;32md:\\programfilesssd2\\miniconda\\lib\\site-packages\\torch\\utils\\data\\dataloader.py\u001b[0m in \u001b[0;36m_get_data\u001b[1;34m(self)\u001b[0m\n\u001b[0;32m   1270\u001b[0m         \u001b[1;32melif\u001b[0m \u001b[0mself\u001b[0m\u001b[1;33m.\u001b[0m\u001b[0m_pin_memory\u001b[0m\u001b[1;33m:\u001b[0m\u001b[1;33m\u001b[0m\u001b[1;33m\u001b[0m\u001b[0m\n\u001b[0;32m   1271\u001b[0m             \u001b[1;32mwhile\u001b[0m \u001b[0mself\u001b[0m\u001b[1;33m.\u001b[0m\u001b[0m_pin_memory_thread\u001b[0m\u001b[1;33m.\u001b[0m\u001b[0mis_alive\u001b[0m\u001b[1;33m(\u001b[0m\u001b[1;33m)\u001b[0m\u001b[1;33m:\u001b[0m\u001b[1;33m\u001b[0m\u001b[1;33m\u001b[0m\u001b[0m\n\u001b[1;32m-> 1272\u001b[1;33m                 \u001b[0msuccess\u001b[0m\u001b[1;33m,\u001b[0m \u001b[0mdata\u001b[0m \u001b[1;33m=\u001b[0m \u001b[0mself\u001b[0m\u001b[1;33m.\u001b[0m\u001b[0m_try_get_data\u001b[0m\u001b[1;33m(\u001b[0m\u001b[1;33m)\u001b[0m\u001b[1;33m\u001b[0m\u001b[1;33m\u001b[0m\u001b[0m\n\u001b[0m\u001b[0;32m   1273\u001b[0m                 \u001b[1;32mif\u001b[0m \u001b[0msuccess\u001b[0m\u001b[1;33m:\u001b[0m\u001b[1;33m\u001b[0m\u001b[1;33m\u001b[0m\u001b[0m\n\u001b[0;32m   1274\u001b[0m                     \u001b[1;32mreturn\u001b[0m \u001b[0mdata\u001b[0m\u001b[1;33m\u001b[0m\u001b[1;33m\u001b[0m\u001b[0m\n",
      "\u001b[1;32md:\\programfilesssd2\\miniconda\\lib\\site-packages\\torch\\utils\\data\\dataloader.py\u001b[0m in \u001b[0;36m_try_get_data\u001b[1;34m(self, timeout)\u001b[0m\n\u001b[0;32m   1118\u001b[0m         \u001b[1;31m#   (bool: whether successfully get data, any: data if successful else None)\u001b[0m\u001b[1;33m\u001b[0m\u001b[1;33m\u001b[0m\u001b[1;33m\u001b[0m\u001b[0m\n\u001b[0;32m   1119\u001b[0m         \u001b[1;32mtry\u001b[0m\u001b[1;33m:\u001b[0m\u001b[1;33m\u001b[0m\u001b[1;33m\u001b[0m\u001b[0m\n\u001b[1;32m-> 1120\u001b[1;33m             \u001b[0mdata\u001b[0m \u001b[1;33m=\u001b[0m \u001b[0mself\u001b[0m\u001b[1;33m.\u001b[0m\u001b[0m_data_queue\u001b[0m\u001b[1;33m.\u001b[0m\u001b[0mget\u001b[0m\u001b[1;33m(\u001b[0m\u001b[0mtimeout\u001b[0m\u001b[1;33m=\u001b[0m\u001b[0mtimeout\u001b[0m\u001b[1;33m)\u001b[0m\u001b[1;33m\u001b[0m\u001b[1;33m\u001b[0m\u001b[0m\n\u001b[0m\u001b[0;32m   1121\u001b[0m             \u001b[1;32mreturn\u001b[0m \u001b[1;33m(\u001b[0m\u001b[1;32mTrue\u001b[0m\u001b[1;33m,\u001b[0m \u001b[0mdata\u001b[0m\u001b[1;33m)\u001b[0m\u001b[1;33m\u001b[0m\u001b[1;33m\u001b[0m\u001b[0m\n\u001b[0;32m   1122\u001b[0m         \u001b[1;32mexcept\u001b[0m \u001b[0mException\u001b[0m \u001b[1;32mas\u001b[0m \u001b[0me\u001b[0m\u001b[1;33m:\u001b[0m\u001b[1;33m\u001b[0m\u001b[1;33m\u001b[0m\u001b[0m\n",
      "\u001b[1;32md:\\programfilesssd2\\miniconda\\lib\\queue.py\u001b[0m in \u001b[0;36mget\u001b[1;34m(self, block, timeout)\u001b[0m\n\u001b[0;32m    178\u001b[0m                     \u001b[1;32mif\u001b[0m \u001b[0mremaining\u001b[0m \u001b[1;33m<=\u001b[0m \u001b[1;36m0.0\u001b[0m\u001b[1;33m:\u001b[0m\u001b[1;33m\u001b[0m\u001b[1;33m\u001b[0m\u001b[0m\n\u001b[0;32m    179\u001b[0m                         \u001b[1;32mraise\u001b[0m \u001b[0mEmpty\u001b[0m\u001b[1;33m\u001b[0m\u001b[1;33m\u001b[0m\u001b[0m\n\u001b[1;32m--> 180\u001b[1;33m                     \u001b[0mself\u001b[0m\u001b[1;33m.\u001b[0m\u001b[0mnot_empty\u001b[0m\u001b[1;33m.\u001b[0m\u001b[0mwait\u001b[0m\u001b[1;33m(\u001b[0m\u001b[0mremaining\u001b[0m\u001b[1;33m)\u001b[0m\u001b[1;33m\u001b[0m\u001b[1;33m\u001b[0m\u001b[0m\n\u001b[0m\u001b[0;32m    181\u001b[0m             \u001b[0mitem\u001b[0m \u001b[1;33m=\u001b[0m \u001b[0mself\u001b[0m\u001b[1;33m.\u001b[0m\u001b[0m_get\u001b[0m\u001b[1;33m(\u001b[0m\u001b[1;33m)\u001b[0m\u001b[1;33m\u001b[0m\u001b[1;33m\u001b[0m\u001b[0m\n\u001b[0;32m    182\u001b[0m             \u001b[0mself\u001b[0m\u001b[1;33m.\u001b[0m\u001b[0mnot_full\u001b[0m\u001b[1;33m.\u001b[0m\u001b[0mnotify\u001b[0m\u001b[1;33m(\u001b[0m\u001b[1;33m)\u001b[0m\u001b[1;33m\u001b[0m\u001b[1;33m\u001b[0m\u001b[0m\n",
      "\u001b[1;32md:\\programfilesssd2\\miniconda\\lib\\threading.py\u001b[0m in \u001b[0;36mwait\u001b[1;34m(self, timeout)\u001b[0m\n\u001b[0;32m    314\u001b[0m             \u001b[1;32melse\u001b[0m\u001b[1;33m:\u001b[0m\u001b[1;33m\u001b[0m\u001b[1;33m\u001b[0m\u001b[0m\n\u001b[0;32m    315\u001b[0m                 \u001b[1;32mif\u001b[0m \u001b[0mtimeout\u001b[0m \u001b[1;33m>\u001b[0m \u001b[1;36m0\u001b[0m\u001b[1;33m:\u001b[0m\u001b[1;33m\u001b[0m\u001b[1;33m\u001b[0m\u001b[0m\n\u001b[1;32m--> 316\u001b[1;33m                     \u001b[0mgotit\u001b[0m \u001b[1;33m=\u001b[0m \u001b[0mwaiter\u001b[0m\u001b[1;33m.\u001b[0m\u001b[0macquire\u001b[0m\u001b[1;33m(\u001b[0m\u001b[1;32mTrue\u001b[0m\u001b[1;33m,\u001b[0m \u001b[0mtimeout\u001b[0m\u001b[1;33m)\u001b[0m\u001b[1;33m\u001b[0m\u001b[1;33m\u001b[0m\u001b[0m\n\u001b[0m\u001b[0;32m    317\u001b[0m                 \u001b[1;32melse\u001b[0m\u001b[1;33m:\u001b[0m\u001b[1;33m\u001b[0m\u001b[1;33m\u001b[0m\u001b[0m\n\u001b[0;32m    318\u001b[0m                     \u001b[0mgotit\u001b[0m \u001b[1;33m=\u001b[0m \u001b[0mwaiter\u001b[0m\u001b[1;33m.\u001b[0m\u001b[0macquire\u001b[0m\u001b[1;33m(\u001b[0m\u001b[1;32mFalse\u001b[0m\u001b[1;33m)\u001b[0m\u001b[1;33m\u001b[0m\u001b[1;33m\u001b[0m\u001b[0m\n",
      "\u001b[1;31mKeyboardInterrupt\u001b[0m: "
     ]
    }
   ],
   "source": [
    "modelName = \"CNN\"\n",
    "target = \"EDA300\"\n",
    "\n",
    "TRAIN_CNN(MODEL_CNN_EDA(input_channel=1),modelName =modelName,target=target,KFSORT=KFSORT,dataLoader_train=dataLoader_train,dataLoader_valid=dataLoader_valid,dataCount = len(dataX[train_index]),epochs=500,lr=0.0001,scheduler_step_size=100,scheduler_gamma=0.97)\n",
    "\n",
    "\n"
   ]
  },
  {
   "cell_type": "code",
   "execution_count": null,
   "id": "d21b9c1a",
   "metadata": {
    "scrolled": false
   },
   "outputs": [],
   "source": []
  },
  {
   "cell_type": "code",
   "execution_count": null,
   "id": "d3361b57",
   "metadata": {},
   "outputs": [],
   "source": [
    "\n",
    "# os.environ[\"PYTORCH_CUDA_ALLOC_CONF\"] = \"max_split_size_mb:582\""
   ]
  },
  {
   "cell_type": "code",
   "execution_count": null,
   "id": "f61f74d0",
   "metadata": {
    "scrolled": false
   },
   "outputs": [],
   "source": []
  },
  {
   "cell_type": "code",
   "execution_count": null,
   "id": "b10d8124",
   "metadata": {},
   "outputs": [],
   "source": [
    "# 0 43\n",
    "# 60 42\n",
    "\n",
    "\n",
    "\n",
    "x = range(0,epochs) # x轴坐标值113  0.00009 -> 81\n",
    "plt.plot(trainAccHis,c = 'r') # 参数c为color简写，表示颜色,r为red即红色"
   ]
  },
  {
   "cell_type": "code",
   "execution_count": null,
   "id": "cede050f",
   "metadata": {},
   "outputs": [],
   "source": [
    "x = range(0,epochs) # x轴坐标值\n",
    "plt.plot(lossHistory,c = 'r') # 参数c为color简写，表示颜色,r为red即红色"
   ]
  },
  {
   "cell_type": "code",
   "execution_count": null,
   "id": "34754162",
   "metadata": {},
   "outputs": [],
   "source": [
    "\n",
    "x = range(0,epochs) # x轴坐标值\n",
    "plt.plot(accHistory,c = 'r') # 参数c为color简写，表示颜色,r为red即红色\n"
   ]
  },
  {
   "cell_type": "code",
   "execution_count": null,
   "id": "e4cf6f6f",
   "metadata": {},
   "outputs": [],
   "source": [
    "\n",
    "with open(\"loss_\"+model_name+\"_\"+TARGET+\"_5(\"+str(KFSORT+1)+\").pkl\", 'wb') as file:\n",
    "    pickle.dump(dict({\"loss\":lossHistory,\"acc\":accHistory,\"trainAccHis\":trainAccHis}), file)"
   ]
  },
  {
   "cell_type": "code",
   "execution_count": null,
   "id": "89f9a3f3",
   "metadata": {},
   "outputs": [],
   "source": [
    "STOP\n",
    "model = MODEL_CNN_EDA(input_channel=1)\n",
    "model = model.to(device)\n",
    "\n",
    "epochs = 500\n",
    "optimizer = torch.optim.Adam(model.parameters(), lr=0.0001) #0.0008\n",
    "\n",
    "criterion = torch.nn.CrossEntropyLoss()\n",
    "\n",
    "scheduler = StepLR(optimizer, step_size=100, gamma=0.97)\n",
    "\n",
    "lossHistory = []\n",
    "accHistory = []\n",
    "trainAccHis = []\n",
    "\n",
    "\n",
    "\n",
    "early_stopping = EarlyStopping(patience=1200,filename=\"CNN_\"+TARGET+\"300_5(\"+str(KFSORT+1)+\").pth\")\n",
    "\n",
    "for epoch in range(0,epochs):\n",
    "    model.train()\n",
    "    LOSS = 0\n",
    "    ACC = 0\n",
    "    for batch_data, batch_targets in dataLoader_train:\n",
    "        optimizer.zero_grad()\n",
    "        outputs = model(batch_data.to(device))\n",
    "        loss = criterion(outputs, batch_targets.to(device))\n",
    "        loss.backward()\n",
    "        \n",
    "        LOSS += loss.detach().cpu().numpy()\n",
    "        ACC += (torch.max(outputs,dim=1)[1] == batch_targets.to(device)).sum()\n",
    "        \n",
    "        optimizer.step()\n",
    "        \n",
    "    scheduler.step()\n",
    "    \n",
    "    lossHistory.append(LOSS)\n",
    "    \n",
    "    print(f\"epoch{epoch+1}: {str(LOSS)[0:7]}\",end=\"\\t \")\n",
    "    cal = (ACC/dataCount).cpu()\n",
    "    print(f\"acc_t[{str(np.array(cal))[0:5]}]\",end=\"\\t \")\n",
    "    trainAccHis.append(cal)\n",
    "    print(\"lr[\"+str(optimizer.param_groups[0]['lr'])+\"]\",end=\"\\t \")\n",
    "    \n",
    "#     for p in model.parameters():\n",
    "#         print(p.grad.data)\n",
    "    \n",
    "    model.eval()\n",
    "    with torch.no_grad():\n",
    "        all_outputs = []\n",
    "        all_targets = []\n",
    "        for batch_data, batch_targets in dataLoader_valid:\n",
    "            outputs = model(batch_data.to(device))\n",
    "            _, predicted = torch.max(outputs.data, 1)\n",
    "            all_outputs.append(predicted.cpu().numpy())\n",
    "            all_targets.append(batch_targets.cpu().numpy())\n",
    "\n",
    "        all_outputs = np.concatenate(all_outputs)\n",
    "        all_targets = np.concatenate(all_targets)\n",
    "        accuracy = accuracy_score(all_targets, all_outputs)\n",
    "        accHistory.append(accuracy)\n",
    "#         accAverHis.append(np.mean(np.array(accHistory)))\n",
    "        print(f\"acc_val: {str(accuracy)[0:7]}，\",end=\"\\t\")\n",
    "        print('OK '+'='*20 if(np.max(np.array(accHistory)) == accuracy) else str(100*(accuracy - np.max(np.array(accHistory))))[0:5],end=\"\\t\")\n",
    "    \n",
    "    \n",
    "    if(epoch>50):\n",
    "        print(f\"[{ str(np.abs(np.mean(lossHistory)-np.mean(lossHistory[0:epoch-50])))[0:4] }\")\n",
    "#         if(np.abs(np.mean(lossHistory)-np.mean(lossHistory[0:epoch-50]))<0.05):\n",
    "#             if(np.abs(100*(accuracy - np.max(np.array(accHistory))))<5):\n",
    "#                 print(\"已提前结束。\")\n",
    "#                 break\n",
    "\n",
    "                \n",
    "    else:\n",
    "        print(\"\")\n",
    "                    \n",
    "    early_stopping(accuracy, model)\n",
    "    if early_stopping.early_stop:\n",
    "        print(\"Early stopping\")\n",
    "        break"
   ]
  }
 ],
 "metadata": {
  "kernelspec": {
   "display_name": "Python 3 (ipykernel)",
   "language": "python",
   "name": "python3"
  },
  "language_info": {
   "codemirror_mode": {
    "name": "ipython",
    "version": 3
   },
   "file_extension": ".py",
   "mimetype": "text/x-python",
   "name": "python",
   "nbconvert_exporter": "python",
   "pygments_lexer": "ipython3",
   "version": "3.9.5"
  }
 },
 "nbformat": 4,
 "nbformat_minor": 5
}
